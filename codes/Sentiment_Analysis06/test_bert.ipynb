{
 "cells": [
  {
   "metadata": {
    "ExecuteTime": {
     "end_time": "2024-10-11T07:09:45.882862Z",
     "start_time": "2024-10-11T07:09:42.686736Z"
    }
   },
   "cell_type": "code",
   "source": [
    "import numpy as np\n",
    "import pandas as pd\n",
    "import matplotlib.pyplot as plt\n",
    "from transformers import pipeline\n",
    "from nltk.tokenize import word_tokenize\n",
    "from nltk.corpus import stopwords"
   ],
   "id": "7aaf99599461ad73",
   "outputs": [],
   "execution_count": 1
  },
  {
   "metadata": {},
   "cell_type": "markdown",
   "source": "读取数据",
   "id": "ad4edb3245dfc1f1"
  },
  {
   "metadata": {
    "ExecuteTime": {
     "end_time": "2024-10-11T07:09:47.002711Z",
     "start_time": "2024-10-11T07:09:46.996054Z"
    }
   },
   "cell_type": "code",
   "source": [
    "# 本地数据地址\n",
    "path = 'Accton.csv'\n",
    "# 读取数据\n",
    "df = pd.read_csv(path)"
   ],
   "id": "9dc258ef3134d4e5",
   "outputs": [],
   "execution_count": 2
  },
  {
   "metadata": {
    "ExecuteTime": {
     "end_time": "2024-10-11T07:09:47.627615Z",
     "start_time": "2024-10-11T07:09:47.622679Z"
    }
   },
   "cell_type": "code",
   "source": [
    "df_description = df['Description']\n",
    "df_description.head()"
   ],
   "id": "ffa9f74e492bfa0a",
   "outputs": [
    {
     "data": {
      "text/plain": [
       "0    u8 value); extern void led_classdev_unregister...\n",
       "1    The Price to Earnings (P/E) ratio, a key valua...\n",
       "2    A highly anticipated interest-rate decision by...\n",
       "3    DRIVER NEEDED: <b>accton</b> <b>accton</b> pci...\n",
       "4    Edgecore will be separate from SMC Networks, a...\n",
       "Name: Description, dtype: object"
      ]
     },
     "execution_count": 3,
     "metadata": {},
     "output_type": "execute_result"
    }
   ],
   "execution_count": 3
  },
  {
   "metadata": {},
   "cell_type": "markdown",
   "source": "数据清洗",
   "id": "b311ef657b7f8cda"
  },
  {
   "metadata": {
    "ExecuteTime": {
     "end_time": "2024-10-11T07:09:49.865711Z",
     "start_time": "2024-10-11T07:09:49.825836Z"
    }
   },
   "cell_type": "code",
   "source": [
    "# 数据清洗与预处理\n",
    "def preprocess_text(text):\n",
    "    tokens = word_tokenize(text.lower())\n",
    "    tokens = [t for t in tokens if t.isalpha() and t not in stopwords.words('english')]\n",
    "    return ' '.join(tokens)\n",
    "\n",
    "df['ProcessedDescription'] = df_description.apply(preprocess_text)\n",
    "df['ProcessedDescription'].head()"
   ],
   "id": "7a876c03a86b5a27",
   "outputs": [
    {
     "data": {
      "text/plain": [
       "0    value extern void struct extern void struct ex...\n",
       "1    price earnings ratio key valuation measure cal...\n",
       "2    highly anticipated decision federal reserve we...\n",
       "3    driver needed b accton b accton pci ethernet c...\n",
       "4    edgecore separate smc networks although remain...\n",
       "Name: ProcessedDescription, dtype: object"
      ]
     },
     "execution_count": 4,
     "metadata": {},
     "output_type": "execute_result"
    }
   ],
   "execution_count": 4
  },
  {
   "metadata": {},
   "cell_type": "markdown",
   "source": "导入bert模型",
   "id": "c2d5c715bc447d5f"
  },
  {
   "cell_type": "code",
   "id": "initial_id",
   "metadata": {
    "collapsed": true,
    "ExecuteTime": {
     "end_time": "2024-10-11T07:09:53.328776Z",
     "start_time": "2024-10-11T07:09:51.791794Z"
    }
   },
   "source": "specific_model = pipeline(model=\"nlptown/bert-base-multilingual-uncased-sentiment\")",
   "outputs": [
    {
     "name": "stderr",
     "output_type": "stream",
     "text": [
      "/opt/anaconda3/envs/pyt/lib/python3.11/site-packages/transformers/tokenization_utils_base.py:1601: FutureWarning: `clean_up_tokenization_spaces` was not set. It will be set to `True` by default. This behavior will be depracted in transformers v4.45, and will be then set to `False` by default. For more details check this issue: https://github.com/huggingface/transformers/issues/31884\n",
      "  warnings.warn(\n",
      "Hardware accelerator e.g. GPU is available in the environment, but no `device` argument is passed to the `Pipeline` object. Model will be on CPU.\n"
     ]
    }
   ],
   "execution_count": 5
  },
  {
   "metadata": {
    "ExecuteTime": {
     "end_time": "2024-10-11T07:09:55.331838Z",
     "start_time": "2024-10-11T07:09:54.534198Z"
    }
   },
   "cell_type": "code",
   "source": [
    "#导入数据到模型里\n",
    "data = df['ProcessedDescription'].tolist()\n",
    "ans=specific_model(data)\n",
    "ans"
   ],
   "id": "b61de05b2208fc1f",
   "outputs": [
    {
     "data": {
      "text/plain": [
       "[{'label': '1 star', 'score': 0.538558840751648},\n",
       " {'label': '3 stars', 'score': 0.31008586287498474},\n",
       " {'label': '4 stars', 'score': 0.23607000708580017},\n",
       " {'label': '4 stars', 'score': 0.31141918897628784},\n",
       " {'label': '3 stars', 'score': 0.3038923442363739},\n",
       " {'label': '4 stars', 'score': 0.36624234914779663},\n",
       " {'label': '4 stars', 'score': 0.2652154266834259},\n",
       " {'label': '4 stars', 'score': 0.3343838155269623},\n",
       " {'label': '5 stars', 'score': 0.36659887433052063},\n",
       " {'label': '4 stars', 'score': 0.36390718817710876},\n",
       " {'label': '3 stars', 'score': 0.2544254660606384},\n",
       " {'label': '4 stars', 'score': 0.2877124547958374},\n",
       " {'label': '5 stars', 'score': 0.42241370677948},\n",
       " {'label': '5 stars', 'score': 0.3324807584285736},\n",
       " {'label': '2 stars', 'score': 0.33579644560813904},\n",
       " {'label': '4 stars', 'score': 0.39127203822135925}]"
      ]
     },
     "execution_count": 6,
     "metadata": {},
     "output_type": "execute_result"
    }
   ],
   "execution_count": 6
  },
  {
   "metadata": {
    "ExecuteTime": {
     "end_time": "2024-10-11T07:09:57.630757Z",
     "start_time": "2024-10-11T07:09:57.623934Z"
    }
   },
   "cell_type": "code",
   "source": [
    "#创建label列表\n",
    "label_list = []\n",
    "#摘取label\n",
    "for i in ans:\n",
    "    label_list.append(int(i['label'][0]))\n",
    "df['label'] = label_list\n",
    "df.head()"
   ],
   "id": "b70b8f4caf4efa6f",
   "outputs": [
    {
     "data": {
      "text/plain": [
       "                                               Title  \\\n",
       "0                    <b>accton</b>_as7726_32x_leds.c   \n",
       "1                     <b>Accton Technology Corp</b>.   \n",
       "2     <b>Accton</b> Technology Corporation (2345.TW)   \n",
       "3           <b>108m Wireless PCI Adapter Drivers</b>   \n",
       "4  SMC Networks Spins Off Channel-Centric Busines...   \n",
       "\n",
       "                                         Description  \\\n",
       "0  u8 value); extern void led_classdev_unregister...   \n",
       "1  The Price to Earnings (P/E) ratio, a key valua...   \n",
       "2  A highly anticipated interest-rate decision by...   \n",
       "3  DRIVER NEEDED: <b>accton</b> <b>accton</b> pci...   \n",
       "4  Edgecore will be separate from SMC Networks, a...   \n",
       "\n",
       "                                                 URL             Provider  \\\n",
       "0  https://github.com/sonic-net/sonic-buildimage/...               GitHub   \n",
       "1  https://www.wsj.com/market-data/quotes/TW/XTAI...  Wall Street Journal   \n",
       "2      https://finance.yahoo.com/quote/2345.TW/news/        Yahoo Finance   \n",
       "3  https://www.globalspec.com/industrial-director...  Engineering360 News   \n",
       "4  https://www.crn.com/news/networking/221400160/...                  CRN   \n",
       "\n",
       "                 Date Published  \\\n",
       "0  2022-11-21T10:44:00.0000000Z   \n",
       "1  2024-08-22T23:59:00.0000000Z   \n",
       "2  2024-09-13T13:30:00.0000000Z   \n",
       "3  2018-02-12T17:57:00.0000000Z   \n",
       "4  2009-11-02T12:00:00.0000000Z   \n",
       "\n",
       "                                ProcessedDescription  label  \n",
       "0  value extern void struct extern void struct ex...      1  \n",
       "1  price earnings ratio key valuation measure cal...      3  \n",
       "2  highly anticipated decision federal reserve we...      4  \n",
       "3  driver needed b accton b accton pci ethernet c...      4  \n",
       "4  edgecore separate smc networks although remain...      3  "
      ],
      "text/html": [
       "<div>\n",
       "<style scoped>\n",
       "    .dataframe tbody tr th:only-of-type {\n",
       "        vertical-align: middle;\n",
       "    }\n",
       "\n",
       "    .dataframe tbody tr th {\n",
       "        vertical-align: top;\n",
       "    }\n",
       "\n",
       "    .dataframe thead th {\n",
       "        text-align: right;\n",
       "    }\n",
       "</style>\n",
       "<table border=\"1\" class=\"dataframe\">\n",
       "  <thead>\n",
       "    <tr style=\"text-align: right;\">\n",
       "      <th></th>\n",
       "      <th>Title</th>\n",
       "      <th>Description</th>\n",
       "      <th>URL</th>\n",
       "      <th>Provider</th>\n",
       "      <th>Date Published</th>\n",
       "      <th>ProcessedDescription</th>\n",
       "      <th>label</th>\n",
       "    </tr>\n",
       "  </thead>\n",
       "  <tbody>\n",
       "    <tr>\n",
       "      <th>0</th>\n",
       "      <td>&lt;b&gt;accton&lt;/b&gt;_as7726_32x_leds.c</td>\n",
       "      <td>u8 value); extern void led_classdev_unregister...</td>\n",
       "      <td>https://github.com/sonic-net/sonic-buildimage/...</td>\n",
       "      <td>GitHub</td>\n",
       "      <td>2022-11-21T10:44:00.0000000Z</td>\n",
       "      <td>value extern void struct extern void struct ex...</td>\n",
       "      <td>1</td>\n",
       "    </tr>\n",
       "    <tr>\n",
       "      <th>1</th>\n",
       "      <td>&lt;b&gt;Accton Technology Corp&lt;/b&gt;.</td>\n",
       "      <td>The Price to Earnings (P/E) ratio, a key valua...</td>\n",
       "      <td>https://www.wsj.com/market-data/quotes/TW/XTAI...</td>\n",
       "      <td>Wall Street Journal</td>\n",
       "      <td>2024-08-22T23:59:00.0000000Z</td>\n",
       "      <td>price earnings ratio key valuation measure cal...</td>\n",
       "      <td>3</td>\n",
       "    </tr>\n",
       "    <tr>\n",
       "      <th>2</th>\n",
       "      <td>&lt;b&gt;Accton&lt;/b&gt; Technology Corporation (2345.TW)</td>\n",
       "      <td>A highly anticipated interest-rate decision by...</td>\n",
       "      <td>https://finance.yahoo.com/quote/2345.TW/news/</td>\n",
       "      <td>Yahoo Finance</td>\n",
       "      <td>2024-09-13T13:30:00.0000000Z</td>\n",
       "      <td>highly anticipated decision federal reserve we...</td>\n",
       "      <td>4</td>\n",
       "    </tr>\n",
       "    <tr>\n",
       "      <th>3</th>\n",
       "      <td>&lt;b&gt;108m Wireless PCI Adapter Drivers&lt;/b&gt;</td>\n",
       "      <td>DRIVER NEEDED: &lt;b&gt;accton&lt;/b&gt; &lt;b&gt;accton&lt;/b&gt; pci...</td>\n",
       "      <td>https://www.globalspec.com/industrial-director...</td>\n",
       "      <td>Engineering360 News</td>\n",
       "      <td>2018-02-12T17:57:00.0000000Z</td>\n",
       "      <td>driver needed b accton b accton pci ethernet c...</td>\n",
       "      <td>4</td>\n",
       "    </tr>\n",
       "    <tr>\n",
       "      <th>4</th>\n",
       "      <td>SMC Networks Spins Off Channel-Centric Busines...</td>\n",
       "      <td>Edgecore will be separate from SMC Networks, a...</td>\n",
       "      <td>https://www.crn.com/news/networking/221400160/...</td>\n",
       "      <td>CRN</td>\n",
       "      <td>2009-11-02T12:00:00.0000000Z</td>\n",
       "      <td>edgecore separate smc networks although remain...</td>\n",
       "      <td>3</td>\n",
       "    </tr>\n",
       "  </tbody>\n",
       "</table>\n",
       "</div>"
      ]
     },
     "execution_count": 7,
     "metadata": {},
     "output_type": "execute_result"
    }
   ],
   "execution_count": 7
  },
  {
   "metadata": {},
   "cell_type": "markdown",
   "source": "制作情感分布图",
   "id": "1e44ded5210d41ea"
  },
  {
   "metadata": {
    "ExecuteTime": {
     "end_time": "2024-10-11T07:10:00.584682Z",
     "start_time": "2024-10-11T07:10:00.477389Z"
    }
   },
   "cell_type": "code",
   "source": [
    "#得到label信息并排序\n",
    "sentiment_counts = df['label'].value_counts()\n",
    "sentiment_counts_sorted = sentiment_counts.sort_index()\n",
    "\n",
    "# 绘制情感分布图\n",
    "plt.figure(figsize=(8, 6))\n",
    "colors = [(0, 1, 0, alpha) for alpha in np.linspace(0.2, 1, 5)]\n",
    "plt.bar(sentiment_counts_sorted.index, sentiment_counts_sorted.values,color=colors)\n",
    "plt.title('Sentiment Distribution')\n",
    "plt.xlabel('Sentiment')\n",
    "plt.ylabel('Count')\n",
    "plt.show()"
   ],
   "id": "235ca69164e812a8",
   "outputs": [
    {
     "data": {
      "text/plain": [
       "<Figure size 800x600 with 1 Axes>"
      ],
      "image/png": "[encoded data removed]"
     },
     "metadata": {},
     "output_type": "display_data"
    }
   ],
   "execution_count": 8
  },
  {
   "metadata": {},
   "cell_type": "markdown",
   "source": "计算数据集得分",
   "id": "68bc6f1f26e1a51d"
  },
  {
   "metadata": {
    "ExecuteTime": {
     "end_time": "2024-10-11T07:10:04.243915Z",
     "start_time": "2024-10-11T07:10:04.237875Z"
    }
   },
   "cell_type": "code",
   "source": [
    "# 计算数据集的总分数\n",
    "def calculate_dataset_score(dataframe, column_name):\n",
    "    label_counts = dataframe[column_name].value_counts()\n",
    "    #总分数\n",
    "    overall_score = sum(label * count for label, count in label_counts.items()) / len(dataframe)\n",
    "    #归一化\n",
    "    dataset_score = overall_score / 5\n",
    "    return dataset_score\n",
    "\n",
    "df_score = calculate_dataset_score(df, 'label')\n",
    "print(f\"df 的分数: {df_score}\")"
   ],
   "id": "8a7361b81c512b91",
   "outputs": [
    {
     "name": "stdout",
     "output_type": "stream",
     "text": [
      "df 的分数: 0.7375\n"
     ]
    }
   ],
   "execution_count": 9
  },
  {
   "metadata": {},
   "cell_type": "code",
   "outputs": [],
   "execution_count": null,
   "source": "",
   "id": "99c88da55b318e03"
  }
 ],
 "metadata": {
  "kernelspec": {
   "display_name": "Python 3",
   "language": "python",
   "name": "python3"
  },
  "language_info": {
   "codemirror_mode": {
    "name": "ipython",
    "version": 2
   },
   "file_extension": ".py",
   "mimetype": "text/x-python",
   "name": "python",
   "nbconvert_exporter": "python",
   "pygments_lexer": "ipython2",
   "version": "2.7.6"
  }
 },
 "nbformat": 4,
 "nbformat_minor": 5
}
